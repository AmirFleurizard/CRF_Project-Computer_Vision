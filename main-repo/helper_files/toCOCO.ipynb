{
  "nbformat": 4,
  "nbformat_minor": 0,
  "metadata": {
    "colab": {
      "provenance": []
    },
    "kernelspec": {
      "name": "python3",
      "display_name": "Python 3"
    },
    "language_info": {
      "name": "python"
    }
  },
  "cells": [
    {
      "cell_type": "code",
      "execution_count": 2,
      "metadata": {
        "id": "xKnC3fprTAy3",
        "colab": {
          "base_uri": "https://localhost:8080/",
          "height": 954
        },
        "outputId": "1d81e488-9a90-42a3-b057-5cc379b2e482"
      },
      "outputs": [
        {
          "output_type": "stream",
          "name": "stdout",
          "text": [
            "Looking in indexes: https://pypi.org/simple, https://us-python.pkg.dev/colab-wheels/public/simple/\n",
            "Collecting sahi\n",
            "  Downloading sahi-0.11.4-py3-none-any.whl (94 kB)\n",
            "\u001b[K     |████████████████████████████████| 94 kB 1.6 MB/s \n",
            "\u001b[?25hRequirement already satisfied: requests in /usr/local/lib/python3.7/dist-packages (from sahi) (2.23.0)\n",
            "Requirement already satisfied: tqdm>=4.48.2 in /usr/local/lib/python3.7/dist-packages (from sahi) (4.64.1)\n",
            "Requirement already satisfied: pyyaml in /usr/local/lib/python3.7/dist-packages (from sahi) (6.0)\n",
            "Collecting terminaltables\n",
            "  Downloading terminaltables-3.1.10-py2.py3-none-any.whl (15 kB)\n",
            "Collecting fire\n",
            "  Downloading fire-0.4.0.tar.gz (87 kB)\n",
            "\u001b[K     |████████████████████████████████| 87 kB 6.3 MB/s \n",
            "\u001b[?25hCollecting click==8.0.4\n",
            "  Downloading click-8.0.4-py3-none-any.whl (97 kB)\n",
            "\u001b[K     |████████████████████████████████| 97 kB 3.8 MB/s \n",
            "\u001b[?25hCollecting pybboxes==0.1.5\n",
            "  Downloading pybboxes-0.1.5-py3-none-any.whl (24 kB)\n",
            "Requirement already satisfied: shapely>=1.8.0 in /usr/local/lib/python3.7/dist-packages (from sahi) (1.8.5.post1)\n",
            "Collecting pillow>=8.2.0\n",
            "  Downloading Pillow-9.3.0-cp37-cp37m-manylinux_2_17_x86_64.manylinux2014_x86_64.whl (3.2 MB)\n",
            "\u001b[K     |████████████████████████████████| 3.2 MB 52.5 MB/s \n",
            "\u001b[?25hRequirement already satisfied: opencv-python>=4.2.0.32 in /usr/local/lib/python3.7/dist-packages (from sahi) (4.6.0.66)\n",
            "Requirement already satisfied: importlib-metadata in /usr/local/lib/python3.7/dist-packages (from click==8.0.4->sahi) (4.13.0)\n",
            "Requirement already satisfied: numpy in /usr/local/lib/python3.7/dist-packages (from pybboxes==0.1.5->sahi) (1.21.6)\n",
            "Requirement already satisfied: six in /usr/local/lib/python3.7/dist-packages (from fire->sahi) (1.15.0)\n",
            "Requirement already satisfied: termcolor in /usr/local/lib/python3.7/dist-packages (from fire->sahi) (2.1.0)\n",
            "Requirement already satisfied: zipp>=0.5 in /usr/local/lib/python3.7/dist-packages (from importlib-metadata->click==8.0.4->sahi) (3.10.0)\n",
            "Requirement already satisfied: typing-extensions>=3.6.4 in /usr/local/lib/python3.7/dist-packages (from importlib-metadata->click==8.0.4->sahi) (4.1.1)\n",
            "Requirement already satisfied: chardet<4,>=3.0.2 in /usr/local/lib/python3.7/dist-packages (from requests->sahi) (3.0.4)\n",
            "Requirement already satisfied: certifi>=2017.4.17 in /usr/local/lib/python3.7/dist-packages (from requests->sahi) (2022.9.24)\n",
            "Requirement already satisfied: urllib3!=1.25.0,!=1.25.1,<1.26,>=1.21.1 in /usr/local/lib/python3.7/dist-packages (from requests->sahi) (1.24.3)\n",
            "Requirement already satisfied: idna<3,>=2.5 in /usr/local/lib/python3.7/dist-packages (from requests->sahi) (2.10)\n",
            "Building wheels for collected packages: fire\n",
            "  Building wheel for fire (setup.py) ... \u001b[?25l\u001b[?25hdone\n",
            "  Created wheel for fire: filename=fire-0.4.0-py2.py3-none-any.whl size=115943 sha256=fff52e5aa29aee98b89de7994f0d55b6906a3b8f0433d8a1130910bd1f5151c9\n",
            "  Stored in directory: /root/.cache/pip/wheels/8a/67/fb/2e8a12fa16661b9d5af1f654bd199366799740a85c64981226\n",
            "Successfully built fire\n",
            "Installing collected packages: terminaltables, pybboxes, pillow, fire, click, sahi\n",
            "  Attempting uninstall: pillow\n",
            "    Found existing installation: Pillow 7.1.2\n",
            "    Uninstalling Pillow-7.1.2:\n",
            "      Successfully uninstalled Pillow-7.1.2\n",
            "  Attempting uninstall: click\n",
            "    Found existing installation: click 7.1.2\n",
            "    Uninstalling click-7.1.2:\n",
            "      Successfully uninstalled click-7.1.2\n",
            "\u001b[31mERROR: pip's dependency resolver does not currently take into account all the packages that are installed. This behaviour is the source of the following dependency conflicts.\n",
            "flask 1.1.4 requires click<8.0,>=5.1, but you have click 8.0.4 which is incompatible.\u001b[0m\n",
            "Successfully installed click-8.0.4 fire-0.4.0 pillow-9.3.0 pybboxes-0.1.5 sahi-0.11.4 terminaltables-3.1.10\n"
          ]
        },
        {
          "output_type": "display_data",
          "data": {
            "application/vnd.colab-display-data+json": {
              "pip_warning": {
                "packages": [
                  "PIL"
                ]
              }
            }
          },
          "metadata": {}
        }
      ],
      "source": [
        "!pip install sahi"
      ]
    },
    {
      "cell_type": "code",
      "source": [
        "from sahi.utils.coco import Coco, CocoCategory, CocoImage, CocoAnnotation\n",
        "from sahi.utils.file import save_json\n",
        "from tqdm import tqdm\n",
        "import os "
      ],
      "metadata": {
        "id": "MX8-DgrEXukv"
      },
      "execution_count": 3,
      "outputs": []
    },
    {
      "cell_type": "code",
      "source": [
        "IMAGE_W = 512\n",
        "IMAGE_H = 512\n",
        "def yoloToCOCO(width_yolo, height_yolo, x_yolo, y_yolo):\n",
        "    width_coco = width_yolo * IMAGE_W\n",
        "    height_coco = height_yolo * IMAGE_H\n",
        "    x_coco = x_yolo * IMAGE_W - (width_coco/2)\n",
        "    y_coco = y_yolo * IMAGE_H - (height_coco/2)\n",
        "    return x_coco,y_coco,width_coco,height_coco\n",
        "\n",
        "def createJSON(coco, labels, save_path):\n",
        "    for l in tqdm(labels):\n",
        "        name = l[:-4]\n",
        "        if not os.path.exists(os.path.join(dataPath, 'images', name+'.jpg')):\n",
        "            continue\n",
        "        coco_image = CocoImage(file_name=name+\".jpg\", height=IMAGE_H, width=IMAGE_W)\n",
        "        lbl_file = os.path.join(dataPath, 'labels',l)\n",
        "        with open(lbl_file) as f:\n",
        "            lines = f.readlines()\n",
        "        lines = [[float(j) for j in i.strip().split()] for i in lines]\n",
        "        for c,x,y,w,h in lines:\n",
        "            x_min,y_min,width,height = yoloToCOCO(w,h,x,y)\n",
        "            if c==0:\n",
        "                coco_image.add_annotation(\n",
        "                    CocoAnnotation(\n",
        "                    bbox=[x_min, y_min, width, height],\n",
        "                    category_id=0,\n",
        "                    category_name='elkhorn'\n",
        "                    )\n",
        "                )\n",
        "            else:\n",
        "                coco_image.add_annotation(\n",
        "                    CocoAnnotation(\n",
        "                    bbox=[x_min, y_min, width, height],\n",
        "                    category_id=1,\n",
        "                    category_name='staghorn'\n",
        "                    )\n",
        "                )\n",
        "        coco.add_image(coco_image)\n",
        "    save_json(data=coco.json, save_path=save_path)\n",
        "    return coco"
      ],
      "metadata": {
        "id": "FeE0SN1xcsSI"
      },
      "execution_count": 4,
      "outputs": []
    },
    {
      "cell_type": "code",
      "source": [
        "coco = Coco()\n",
        "coco.add_category(CocoCategory(id=0, name='elkhorn'))\n",
        "coco.add_category(CocoCategory(id=1, name='staghorn'))\n",
        "\n",
        "dataPath = '/content/drive/MyDrive/yolo-dataset/train'\n",
        "images = os.listdir(os.path.join(dataPath, 'images'))\n",
        "labels = os.listdir(os.path.join(dataPath, 'labels'))\n",
        "\n",
        "print(f'Num images: {len(images)}, num labels: {len(labels)}')\n",
        "save_path = \"/content/drive/MyDrive/yolo-dataset/train_coco.json\"\n",
        "coco = createJSON(coco = coco, labels = labels, save_path = save_path)"
      ],
      "metadata": {
        "colab": {
          "base_uri": "https://localhost:8080/",
          "height": 235
        },
        "id": "2-L5alOrX0mh",
        "outputId": "9b3fcd3a-4c15-44d9-d498-a50f020f7e0c"
      },
      "execution_count": 6,
      "outputs": [
        {
          "output_type": "error",
          "ename": "FileNotFoundError",
          "evalue": "ignored",
          "traceback": [
            "\u001b[0;31m---------------------------------------------------------------------------\u001b[0m",
            "\u001b[0;31mFileNotFoundError\u001b[0m                         Traceback (most recent call last)",
            "\u001b[0;32m<ipython-input-6-ae0554b61534>\u001b[0m in \u001b[0;36m<module>\u001b[0;34m\u001b[0m\n\u001b[1;32m      4\u001b[0m \u001b[0;34m\u001b[0m\u001b[0m\n\u001b[1;32m      5\u001b[0m \u001b[0mdataPath\u001b[0m \u001b[0;34m=\u001b[0m \u001b[0;34m'/content/drive/MyDrive/yolo-dataset/train'\u001b[0m\u001b[0;34m\u001b[0m\u001b[0;34m\u001b[0m\u001b[0m\n\u001b[0;32m----> 6\u001b[0;31m \u001b[0mimages\u001b[0m \u001b[0;34m=\u001b[0m \u001b[0mos\u001b[0m\u001b[0;34m.\u001b[0m\u001b[0mlistdir\u001b[0m\u001b[0;34m(\u001b[0m\u001b[0mos\u001b[0m\u001b[0;34m.\u001b[0m\u001b[0mpath\u001b[0m\u001b[0;34m.\u001b[0m\u001b[0mjoin\u001b[0m\u001b[0;34m(\u001b[0m\u001b[0mdataPath\u001b[0m\u001b[0;34m,\u001b[0m \u001b[0;34m'images'\u001b[0m\u001b[0;34m)\u001b[0m\u001b[0;34m)\u001b[0m\u001b[0;34m\u001b[0m\u001b[0;34m\u001b[0m\u001b[0m\n\u001b[0m\u001b[1;32m      7\u001b[0m \u001b[0mlabels\u001b[0m \u001b[0;34m=\u001b[0m \u001b[0mos\u001b[0m\u001b[0;34m.\u001b[0m\u001b[0mlistdir\u001b[0m\u001b[0;34m(\u001b[0m\u001b[0mos\u001b[0m\u001b[0;34m.\u001b[0m\u001b[0mpath\u001b[0m\u001b[0;34m.\u001b[0m\u001b[0mjoin\u001b[0m\u001b[0;34m(\u001b[0m\u001b[0mdataPath\u001b[0m\u001b[0;34m,\u001b[0m \u001b[0;34m'labels'\u001b[0m\u001b[0;34m)\u001b[0m\u001b[0;34m)\u001b[0m\u001b[0;34m\u001b[0m\u001b[0;34m\u001b[0m\u001b[0m\n\u001b[1;32m      8\u001b[0m \u001b[0;34m\u001b[0m\u001b[0m\n",
            "\u001b[0;31mFileNotFoundError\u001b[0m: [Errno 2] No such file or directory: '/content/drive/MyDrive/yolo-dataset/train/images'"
          ]
        }
      ]
    },
    {
      "cell_type": "code",
      "source": [
        "coco = Coco()\n",
        "coco.add_category(CocoCategory(id=0, name='elkhorn'))\n",
        "coco.add_category(CocoCategory(id=1, name='staghorn'))\n",
        "\n",
        "dataPath = '/content/drive/MyDrive/yolo-dataset/valid'\n",
        "images = os.listdir(os.path.join(dataPath, 'images'))\n",
        "labels = os.listdir(os.path.join(dataPath, 'labels'))\n",
        "\n",
        "print(f'Num images: {len(images)}, num labels: {len(labels)}')\n",
        "save_path = \"/content/drive/MyDrive/yolo-dataset/valid_coco.json\"\n",
        "coco = createJSON(coco = coco, labels = labels, save_path = save_path)"
      ],
      "metadata": {
        "colab": {
          "base_uri": "https://localhost:8080/"
        },
        "id": "tfLHkC_Zq06o",
        "outputId": "4d636459-d88e-47d8-b2c5-15719e2b1db6"
      },
      "execution_count": null,
      "outputs": [
        {
          "output_type": "stream",
          "name": "stdout",
          "text": [
            "Num images: 291, num labels: 291\n"
          ]
        },
        {
          "output_type": "stream",
          "name": "stderr",
          "text": [
            "100%|██████████| 291/291 [00:01<00:00, 288.37it/s]\n"
          ]
        }
      ]
    },
    {
      "cell_type": "code",
      "source": [
        "coco = Coco()\n",
        "coco.add_category(CocoCategory(id=0, name='elkhorn'))\n",
        "coco.add_category(CocoCategory(id=1, name='staghorn'))\n",
        "\n",
        "dataPath = '/content/drive/MyDrive/yolo-dataset/test'\n",
        "images = os.listdir(os.path.join(dataPath, 'images'))\n",
        "labels = os.listdir(os.path.join(dataPath, 'labels'))\n",
        "\n",
        "print(f'Num images: {len(images)}, num labels: {len(labels)}')\n",
        "save_path = \"/content/drive/MyDrive/yolo-dataset/test_coco.json\"\n",
        "coco = createJSON(coco = coco, labels = labels, save_path = save_path)"
      ],
      "metadata": {
        "colab": {
          "base_uri": "https://localhost:8080/"
        },
        "id": "KqABGn8Pq_4B",
        "outputId": "f258f4a7-40ee-475f-8770-50e7298b4b90"
      },
      "execution_count": null,
      "outputs": [
        {
          "output_type": "stream",
          "name": "stdout",
          "text": [
            "Num images: 222, num labels: 222\n"
          ]
        },
        {
          "output_type": "stream",
          "name": "stderr",
          "text": [
            "100%|██████████| 222/222 [00:00<00:00, 289.62it/s]\n"
          ]
        }
      ]
    },
    {
      "cell_type": "code",
      "source": [
        "import numpy as np\n",
        "import matplotlib\n",
        "matplotlib.use('Agg')\n",
        "%matplotlib inline\n",
        "import matplotlib.pyplot as plt\n",
        "from PIL import Image\n",
        "import requests\n",
        "from pycocotools.coco import COCO\n",
        "\n",
        "def main():\n",
        "\n",
        "    coco_annotation_file_path = save_path\n",
        "\n",
        "    coco_annotation = COCO(annotation_file=coco_annotation_file_path)\n",
        "\n",
        "    # Category IDs.\n",
        "    cat_ids = coco_annotation.getCatIds()\n",
        "    print(f\"Number of Unique Categories: {len(cat_ids)}\")\n",
        "    print(\"Category IDs:\")\n",
        "    print(cat_ids)  # The IDs are not necessarily consecutive.\n",
        "\n",
        "    # All categories.\n",
        "    cats = coco_annotation.loadCats(cat_ids)\n",
        "    cat_names = [cat[\"name\"] for cat in cats]\n",
        "    print(\"Categories Names:\")\n",
        "    print(cat_names)\n",
        "\n",
        "    # Category ID -> Category Name.\n",
        "    query_id = cat_ids[0]\n",
        "    query_annotation = coco_annotation.loadCats([query_id])[0]\n",
        "    query_name = query_annotation[\"name\"]\n",
        "    query_supercategory = query_annotation[\"supercategory\"]\n",
        "    print(\"Category ID -> Category Name:\")\n",
        "    print(\n",
        "        f\"Category ID: {query_id}, Category Name: {query_name}, Supercategory: {query_supercategory}\"\n",
        "    )\n",
        "\n",
        "    # Category Name -> Category ID.\n",
        "    query_name = cat_names[1]\n",
        "    query_id = coco_annotation.getCatIds(catNms=[query_name])[0]\n",
        "    print(\"Category Name -> ID:\")\n",
        "    print(f\"Category Name: {query_name}, Category ID: {query_id}\")\n",
        "\n",
        "    # Get the ID of all the images containing the object of the category.\n",
        "    img_ids = coco_annotation.getImgIds(catIds=[query_id])\n",
        "    print(f\"Number of Images Containing {query_name}: {len(img_ids)}\")\n",
        "\n",
        "    # Pick one image.\n",
        "    img_id = img_ids[2]\n",
        "    img_info = coco_annotation.loadImgs([img_id])[0]\n",
        "    img_file_name = img_info[\"file_name\"]\n",
        "    img_file = os.path.join(dataPath,'images',img_file_name)\n",
        "    # img_url = img_info[\"coco_url\"]\n",
        "    print(\n",
        "        f\"Image ID: {img_id}, File Name: {img_file_name}\"\n",
        "    )\n",
        "\n",
        "    # Get all the annotations for the specified image.\n",
        "    ann_ids = coco_annotation.getAnnIds(imgIds=[img_id], iscrowd=None)\n",
        "    anns = coco_annotation.loadAnns(ann_ids)\n",
        "    print(f\"Annotations for Image ID {img_id}:\")\n",
        "    print(anns)\n",
        "\n",
        "    # Use URL to load image.\n",
        "    im = Image.open(img_file)\n",
        "\n",
        "    # Save image and its labeled version.\n",
        "    plt.axis(\"off\")\n",
        "    plt.imshow(np.asarray(im))\n",
        "    plt.savefig(f\"{img_id}.jpg\", bbox_inches=\"tight\", pad_inches=0)\n",
        "    # Plot segmentation and bounding box.\n",
        "    coco_annotation.showAnns(anns, draw_bbox=True)\n",
        "    plt.savefig(os.path.join(dataPath,f\"{img_id}_annotated.jpg\"), bbox_inches=\"tight\", pad_inches=0)\n",
        "\n",
        "    return"
      ],
      "metadata": {
        "id": "M5CC438enHdx"
      },
      "execution_count": null,
      "outputs": []
    },
    {
      "cell_type": "code",
      "source": [
        "main()"
      ],
      "metadata": {
        "colab": {
          "base_uri": "https://localhost:8080/",
          "height": 165
        },
        "id": "RR-xuCRRoGbu",
        "outputId": "57faf1bb-36e0-4243-d79d-c0512089312b"
      },
      "execution_count": 1,
      "outputs": [
        {
          "output_type": "error",
          "ename": "NameError",
          "evalue": "ignored",
          "traceback": [
            "\u001b[0;31m---------------------------------------------------------------------------\u001b[0m",
            "\u001b[0;31mNameError\u001b[0m                                 Traceback (most recent call last)",
            "\u001b[0;32m<ipython-input-1-263240bbee7e>\u001b[0m in \u001b[0;36m<module>\u001b[0;34m\u001b[0m\n\u001b[0;32m----> 1\u001b[0;31m \u001b[0mmain\u001b[0m\u001b[0;34m(\u001b[0m\u001b[0;34m)\u001b[0m\u001b[0;34m\u001b[0m\u001b[0;34m\u001b[0m\u001b[0m\n\u001b[0m",
            "\u001b[0;31mNameError\u001b[0m: name 'main' is not defined"
          ]
        }
      ]
    },
    {
      "cell_type": "code",
      "source": [],
      "metadata": {
        "id": "xJKpuYCwuj47"
      },
      "execution_count": null,
      "outputs": []
    }
  ]
}